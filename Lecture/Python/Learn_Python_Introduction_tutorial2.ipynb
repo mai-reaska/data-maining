{
  "nbformat": 4,
  "nbformat_minor": 0,
  "metadata": {
    "colab": {
      "name": "Learn_Python_Introduction_tutorial2.ipynb",
      "provenance": [],
      "collapsed_sections": [
        "xK4st0rdRoV3",
        "pyEemZQaTYrj",
        "KSfXROZ8Sti9",
        "esZ5o21oTmKe",
        "ugX8XPHoV4wh",
        "Z1chkZ_ek_Xj",
        "B1soTGB8lJ5l",
        "IIq1bwmOlRDF"
      ]
    },
    "kernelspec": {
      "name": "python3",
      "display_name": "Python 3"
    }
  },
  "cells": [
    {
      "cell_type": "markdown",
      "metadata": {
        "id": "oaSy4Rz4SiWB"
      },
      "source": [
        "<h1> Introduction to Python </h1>\n",
        "\n",
        "1.   Basic String Operations\n",
        "2.   Conditions\n",
        "3.   Loops\n",
        "4.   Functions"
      ]
    },
    {
      "cell_type": "markdown",
      "metadata": {
        "id": "xK4st0rdRoV3"
      },
      "source": [
        "## Basic String Operations\n",
        "\n",
        "Strings are bits of text. They can be defined as anything between quotes:"
      ]
    },
    {
      "cell_type": "code",
      "metadata": {
        "id": "cJc0ofNmRvfz"
      },
      "source": [
        "astring = \"Hello world!\"\n",
        "astring2 = 'Hello world!'\n",
        "\n",
        "print(len(astring))\n",
        "# For example to assign the string in these bracket(single quotes are ' ') you need to use double quotes only like this\n",
        "print(\"single quotes are ' '\")"
      ],
      "execution_count": null,
      "outputs": []
    },
    {
      "cell_type": "markdown",
      "metadata": {
        "id": "RHHdo42QRyty"
      },
      "source": [
        "That prints out 4, because the location of the first occurrence of the letter \"o\" is 4 characters away from the first character. Notice how there are actually two o's in the phrase - this method only recognizes the first.\n",
        "\n",
        "But why didn't it print out 5? Isn't \"o\" the fifth character in the string? To make things more simple, Python (and most other programming languages) start things at 0 instead of 1. So the index of \"o\" is 4.\n",
        "\n"
      ]
    },
    {
      "cell_type": "code",
      "metadata": {
        "id": "F6f_7FGmSG06"
      },
      "source": [
        "astring = \"Hello world!\"\n",
        "print(astring.index(\"o\"))"
      ],
      "execution_count": null,
      "outputs": []
    },
    {
      "cell_type": "markdown",
      "metadata": {
        "id": "PRN4Hb58SNu2"
      },
      "source": [
        "For those of you using silly fonts, that is a lowercase L, not a number one. This counts the number of l's in the string. Therefore, it should print 3."
      ]
    },
    {
      "cell_type": "code",
      "metadata": {
        "id": "QTx5UcTkSTfB"
      },
      "source": [
        "astring = \"Hello world!\"\n",
        "print(astring.count(\"l\"))"
      ],
      "execution_count": null,
      "outputs": []
    },
    {
      "cell_type": "markdown",
      "metadata": {
        "id": "H60jQujfSW5y"
      },
      "source": [
        "This prints a slice of the string, starting at index 3, and ending at index 6. But why 6 and not 7? Again, most programming languages do this - it makes doing math inside those brackets easier.\n",
        "\n",
        "If you just have one number in the brackets, it will give you the single character at that index. If you leave out the first number but keep the colon, it will give you a slice from the start to the number you left in. If you leave out the second number, it will give you a slice from the first number to the end.\n",
        "\n",
        "You can even put negative numbers inside the brackets. They are an easy way of starting at the end of the string instead of the beginning. This way, -3 means \"3rd character from the end\"."
      ]
    },
    {
      "cell_type": "code",
      "metadata": {
        "id": "ZPvpy5-PSaNg"
      },
      "source": [
        "astring = \"Hello world!\"\n",
        "print(astring[3:7])"
      ],
      "execution_count": null,
      "outputs": []
    },
    {
      "cell_type": "markdown",
      "metadata": {
        "id": "-B3aLXlkShNe"
      },
      "source": [
        "This prints the characters of string from 3 to 7 skipping one character. This is extended slice syntax. The general form is [start:stop:step].\n",
        "\n"
      ]
    },
    {
      "cell_type": "code",
      "metadata": {
        "id": "uE9-NZmySh41"
      },
      "source": [
        "astring = \"Hello world!\"\n",
        "print(astring[3:7:2])\n",
        "\n",
        "astring = \"Hello world!\"\n",
        "print(astring[3:7])\n",
        "print(astring[3:7:1])"
      ],
      "execution_count": null,
      "outputs": []
    },
    {
      "cell_type": "markdown",
      "metadata": {
        "id": "vpJ55kAGSplo"
      },
      "source": [
        "Note that both of them produce same output\n",
        "\n",
        "There is no function like strrev in C to reverse a string. But with the above mentioned type of slice syntax you can easily reverse a string like this."
      ]
    },
    {
      "cell_type": "code",
      "metadata": {
        "id": "2Frz94jmStTr"
      },
      "source": [
        "astring = \"Hello world!\"\n",
        "print(astring[::-1])"
      ],
      "execution_count": null,
      "outputs": []
    },
    {
      "cell_type": "markdown",
      "metadata": {
        "id": "I5ZG_q_tSxG9"
      },
      "source": [
        "### Some most used functions\n",
        "These make a new string with all letters converted to uppercase and lowercase, respectively."
      ]
    },
    {
      "cell_type": "code",
      "metadata": {
        "id": "48r7tEafS8zy"
      },
      "source": [
        "astring = \"Hello world!\"\n",
        "print(astring.upper())\n",
        "print(astring.lower())"
      ],
      "execution_count": null,
      "outputs": []
    },
    {
      "cell_type": "markdown",
      "metadata": {
        "id": "EAKkgVYPTCnQ"
      },
      "source": [
        "This is used to determine whether the string starts with something or ends with something, respectively. The first one will print True, as the string starts with \"Hello\". The second one will print False, as the string certainly does not end with \"asdfasdfasdf\".\n",
        "\n",
        "\n",
        "\n"
      ]
    },
    {
      "cell_type": "code",
      "metadata": {
        "id": "vei4PvkqTEvF"
      },
      "source": [
        "astring = \"Hello world!\"\n",
        "print(astring.startswith(\"Hello\"))\n",
        "print(astring.endswith(\"asdfasdfasdf\"))"
      ],
      "execution_count": null,
      "outputs": []
    },
    {
      "cell_type": "markdown",
      "metadata": {
        "id": "L4DQv7zZTQfa"
      },
      "source": [
        "\n",
        "\n"
      ]
    },
    {
      "cell_type": "code",
      "metadata": {
        "id": "JqK3BMyqTTKJ"
      },
      "source": [
        "astring = \"Hello world!\"\n",
        "afewwords = astring.split(\" \")\n",
        "print(afewwords)"
      ],
      "execution_count": null,
      "outputs": []
    },
    {
      "cell_type": "markdown",
      "metadata": {
        "id": "pyEemZQaTYrj"
      },
      "source": [
        "### Exercise\n",
        "Try to fix the code to print out the correct information by changing the string."
      ]
    },
    {
      "cell_type": "code",
      "metadata": {
        "id": "-Xk_dTSNVdfP"
      },
      "source": [
        "s = \"Hey there! what should this string be?\"\n",
        "s= \"Strings are awesome!\"\n",
        "# Length should be 20\n",
        "print(\"Length of s = %d\" % len(s))\n",
        "\n",
        "# First occurrence of \"a\" should be at index 8\n",
        "print(\"The first occurrence of the letter a = %d\" % s.index(\"a\"))\n",
        "\n",
        "# Number of a's should be 2\n",
        "print(\"a occurs %d times\" % s.count(\"a\"))\n",
        "\n",
        "# Slicing the string into bits\n",
        "print(\"The first five characters are '%s'\" % s[:5]) # Start to 5\n",
        "print(\"The next five characters are '%s'\" % s[5:10]) # 5 to 10\n",
        "print(\"The thirteenth character is '%s'\" % s[12]) # Just number 12\n",
        "print(\"The characters with odd index are '%s'\" %s[1::2]) #(0-based indexing)\n",
        "print(\"The last five characters are '%s'\" % s[-5:]) # 5th-from-last to end\n",
        "\n",
        "# Convert everything to uppercase\n",
        "print(\"String in uppercase: %s\" % s.upper())\n",
        "\n",
        "# Convert everything to lowercase\n",
        "print(\"String in lowercase: %s\" % s.lower())\n",
        "\n",
        "# Check how a string starts\n",
        "if s.startswith(\"Str\"):\n",
        "    print(\"String starts with 'Str'. Good!\")\n",
        "\n",
        "# Check how a string ends\n",
        "if s.endswith(\"ome!\"):\n",
        "    print(\"String ends with 'ome!'. Good!\")\n",
        "\n",
        "# Split the string into three separate strings,\n",
        "# each containing only a word\n",
        "print(\"Split the words of the string: %s\" % s.split(\" \"))"
      ],
      "execution_count": null,
      "outputs": []
    },
    {
      "cell_type": "markdown",
      "metadata": {
        "id": "KSfXROZ8Sti9"
      },
      "source": [
        "## Conditions\n",
        "\n",
        "Python uses boolean variables to evaluate conditions. The boolean values True and False are returned when an expression is compared or evaluated. For example:"
      ]
    },
    {
      "cell_type": "code",
      "metadata": {
        "id": "cYKy3Rcqz6Ls"
      },
      "source": [
        "x = 2\n",
        "print(x == 2) # prints out True\n",
        "print(x == 3) # prints out False\n",
        "print(x < 3) # prints out True"
      ],
      "execution_count": null,
      "outputs": []
    },
    {
      "cell_type": "markdown",
      "metadata": {
        "id": "7NfLjLDrTL3j"
      },
      "source": [
        "Notice that variable assignment is done using a single equals operator \"=\", whereas comparison between two variables is done using the double equals operator \"==\". The \"not equals\" operator is marked as \"!=\"."
      ]
    },
    {
      "cell_type": "code",
      "metadata": {
        "id": "CbujEJA1SeMX"
      },
      "source": [
        "name = \"John\"\n",
        "age = 23\n",
        "if name == \"John\" and age == 23:\n",
        "    print(\"Your name is John, and you are also 23 years old.\")\n",
        "\n",
        "if name == \"John\" or name == \"Rick\":\n",
        "    print(\"Your name is either John or Rick.\")"
      ],
      "execution_count": null,
      "outputs": []
    },
    {
      "cell_type": "markdown",
      "metadata": {
        "id": "esZ5o21oTmKe"
      },
      "source": [
        "### The \"in\" operator\n",
        "The \"in\" operator could be used to check if a specified object exists within an iterable object container, such as a list:"
      ]
    },
    {
      "cell_type": "code",
      "metadata": {
        "id": "qZlE3ZxLK12W"
      },
      "source": [
        "name = \"John\"\n",
        "if name in [\"John\", \"Rick\"]:\n",
        "    print(\"Your name is either John or Rick.\")"
      ],
      "execution_count": null,
      "outputs": []
    },
    {
      "cell_type": "markdown",
      "metadata": {
        "id": "nME2-N0BSfBs"
      },
      "source": [
        "Python uses indentation to define code blocks, instead of brackets. The standard Python indentation is 4 spaces, although tabs and any other space size will work, as long as it is consistent. Notice that code blocks do not need any termination.\n",
        "\n",
        "Here is an example for using Python's \"if\" statement using code blocks:"
      ]
    },
    {
      "cell_type": "code",
      "metadata": {
        "id": "oWu3xtVlT9-5"
      },
      "source": [
        "statement = False\n",
        "another_statement = True\n",
        "if statement is True:\n",
        "    # do something\n",
        "    pass\n",
        "elif another_statement is True: # else if\n",
        "    # do something else\n",
        "    pass\n",
        "else:\n",
        "    # do another thing\n",
        "    pass\n",
        "\n",
        "x = 2\n",
        "if x == 2:\n",
        "    print(\"x equals two!\")\n",
        "else:\n",
        "    print(\"x does not equal to two.\")"
      ],
      "execution_count": null,
      "outputs": []
    },
    {
      "cell_type": "markdown",
      "metadata": {
        "id": "e8LePPgbURyZ"
      },
      "source": [
        "### The 'is' operator\n",
        "\n",
        "Unlike the double equals operator \"==\", the \"is\" operator does not match the values of the variables, but the instances themselves. For example:"
      ]
    },
    {
      "cell_type": "code",
      "metadata": {
        "id": "NyuVlBXZUXoR"
      },
      "source": [
        "x = [1,2,3]\n",
        "y = [1,2,3]\n",
        "print(x == y) # Prints out True\n",
        "print(x is y) # Prints out False"
      ],
      "execution_count": null,
      "outputs": []
    },
    {
      "cell_type": "markdown",
      "metadata": {
        "id": "KmAv2TLCUtkJ"
      },
      "source": [
        "### The \"not\" operator\n",
        "\n",
        "Using \"not\" before a boolean expression inverts it:\n",
        "\n",
        "\n",
        "\n"
      ]
    },
    {
      "cell_type": "code",
      "metadata": {
        "id": "avZni3fQUufR"
      },
      "source": [
        "print(not False) # Prints out True\n",
        "print((not False) == (False)) # Prints out False"
      ],
      "execution_count": null,
      "outputs": []
    },
    {
      "cell_type": "markdown",
      "metadata": {
        "id": "lqTwziqDVJFf"
      },
      "source": [
        "### Exercise\n",
        "\n",
        "Change the variables in the first section, so that each if statement resolves as True."
      ]
    },
    {
      "cell_type": "code",
      "metadata": {
        "id": "3IgnQ7kAVLKs"
      },
      "source": [
        "# change this code\n",
        "# number = 10\n",
        "# second_number = 10\n",
        "# first_array = []\n",
        "# second_array = [1, 2, 3]\n",
        "number = 20\n",
        "second_number = 10\n",
        "first_array = [1, 2, 3]\n",
        "second_array = [1, 2]\n",
        "\n",
        "if number > 15:\n",
        "    print(\"1\")\n",
        "\n",
        "if first_array:\n",
        "    print(\"2\")\n",
        "\n",
        "if len(second_array) == 2:\n",
        "    print(\"3\")\n",
        "\n",
        "if len(first_array) + len(second_array) == 5:\n",
        "    print(\"4\")\n",
        "\n",
        "if first_array and first_array[0] == 1:\n",
        "    print(\"5\")"
      ],
      "execution_count": null,
      "outputs": []
    },
    {
      "cell_type": "markdown",
      "metadata": {
        "id": "UZdB0CqkV1hR"
      },
      "source": [
        "## Loops\n",
        "There are two types of loops in Python, for and while."
      ]
    },
    {
      "cell_type": "markdown",
      "metadata": {
        "id": "ugX8XPHoV4wh"
      },
      "source": [
        "### The \"for\" loop\n",
        "For loops iterate over a given sequence. Here is an example:"
      ]
    },
    {
      "cell_type": "code",
      "metadata": {
        "id": "QnrIm9ukV73w"
      },
      "source": [
        "primes = [2, 3, 5, 7]\n",
        "for prime in primes:\n",
        "    print(prime)"
      ],
      "execution_count": null,
      "outputs": []
    },
    {
      "cell_type": "markdown",
      "metadata": {
        "id": "WnZHEDuUV_T0"
      },
      "source": [
        "For loops can iterate over a sequence of numbers using the \"range\" and \"xrange\" functions. The difference between range and xrange is that the range function returns a new list with numbers of that specified range, whereas xrange returns an iterator, which is more efficient. (Python 3 uses the range function, which acts like xrange). Note that the range function is zero based.\n",
        "\n"
      ]
    },
    {
      "cell_type": "code",
      "metadata": {
        "id": "lWc9H3pVWESQ"
      },
      "source": [
        "# Prints out the numbers 0,1,2,3,4\n",
        "for x in range(5):\n",
        "    print(x)\n",
        "\n",
        "# Prints out 3,4,5\n",
        "for x in range(3, 6):\n",
        "    print(x)\n",
        "\n",
        "# Prints out 3,5,7\n",
        "for x in range(3, 8, 2):\n",
        "    print(x)"
      ],
      "execution_count": null,
      "outputs": []
    },
    {
      "cell_type": "markdown",
      "metadata": {
        "id": "LF63AzzKkjIZ"
      },
      "source": [
        "**class range(stop)**\n",
        "**class range(start, stop[, step]) [link text]** (https://docs.python.org/3.6/library/stdtypes.html#range)\n",
        "\n",
        "The arguments to the range constructor must be integers (either built-in int or any object that implements the __index__ special method). If the step argument is omitted, it defaults to 1. If the start argument is omitted, it defaults to 0. If step is zero, ValueError is raised.\n",
        "\n",
        "For a positive step, the contents of a range r are determined by the formula `r[i] = start + step*i where i >= 0 and r[i] < stop`.\n",
        "\n",
        "For a negative step, the contents of the range are still determined by the formula `r[i] = start + step*i`, but the constraints are `i >= 0 and r[i] > stop`.\n",
        "\n",
        "A range object will be empty if r[0] does not meet the value constraint. Ranges do support negative indices, but these are interpreted as indexing from the end of the sequence determined by the positive indices.\n",
        "\n",
        "Ranges containing absolute values larger than sys.maxsize are permitted but some features (such as len()) may raise OverflowError."
      ]
    },
    {
      "cell_type": "markdown",
      "metadata": {
        "id": "Z1chkZ_ek_Xj"
      },
      "source": [
        "### \"while\" loops\n",
        "While loops repeat as long as a certain boolean condition is met. For example:"
      ]
    },
    {
      "cell_type": "code",
      "metadata": {
        "id": "QECUD_d2k6Ot"
      },
      "source": [
        "count = 0\n",
        "while count < 5:\n",
        "    print(count)\n",
        "    count += 1  # This is the same as count = count + 1"
      ],
      "execution_count": null,
      "outputs": []
    },
    {
      "cell_type": "markdown",
      "metadata": {
        "id": "B1soTGB8lJ5l"
      },
      "source": [
        "### \"break\" and \"continue\" statements\n",
        "\n",
        "break is used to exit a for loop or a while loop, whereas continue is used to skip the current block, and return to the \"for\" or \"while\" statement. A few examples:\n"
      ]
    },
    {
      "cell_type": "code",
      "metadata": {
        "id": "DaA3xqNHlNNd"
      },
      "source": [
        "# Prints out 0,1,2,3,4\n",
        "\n",
        "count = 0\n",
        "while True:\n",
        "    print(count)\n",
        "    count += 1\n",
        "    if count >= 5:\n",
        "        break\n",
        "\n",
        "# Prints out only odd numbers - 1,3,5,7,9\n",
        "for x in range(10):\n",
        "    # Check if x is even\n",
        "    if x % 2 == 0:\n",
        "        continue\n",
        "    print(x)"
      ],
      "execution_count": null,
      "outputs": []
    },
    {
      "cell_type": "markdown",
      "metadata": {
        "id": "IIq1bwmOlRDF"
      },
      "source": [
        "### can we use \"else\" clause for loops?\n",
        "unlike languages like C,CPP.. we can use else for loops. When the loop condition of \"for\" or \"while\" statement fails then code part in \"else\" is executed. If break statement is executed inside for loop then the \"else\" part is skipped. Note that \"else\" part is executed even if there is a continue statement.\n",
        "\n",
        "Here are a few examples:"
      ]
    },
    {
      "cell_type": "code",
      "metadata": {
        "id": "Wj1KgVkllXsy"
      },
      "source": [
        "# Prints out 0,1,2,3,4 and then it prints \"count value reached 5\"\n",
        "\n",
        "count=0\n",
        "while(count<5):\n",
        "    print(count)\n",
        "    count +=1\n",
        "else:\n",
        "    print(\"count value reached %d\" %(count))\n",
        "\n",
        "# Prints out 1,2,3,4\n",
        "for i in range(1, 10):\n",
        "    if(i%5==0):\n",
        "        break\n",
        "    print(i)\n",
        "else:\n",
        "    print(\"this is not printed because for loop is terminated because of break but not due to fail in condition\")"
      ],
      "execution_count": null,
      "outputs": []
    },
    {
      "cell_type": "markdown",
      "metadata": {
        "id": "zbkkb9uFlwwu"
      },
      "source": [
        "### Exercise\n",
        "Loop through and print out all even numbers from the numbers list in the same order they are received. Don't print any numbers that come after 237 in the sequence."
      ]
    },
    {
      "cell_type": "code",
      "metadata": {
        "id": "dTTZekMBlyDW"
      },
      "source": [
        "numbers = [\n",
        "    951, 402, 984, 651, 360, 69, 408, 319, 601, 485, 980, 507, 725, 547, 544,\n",
        "    615, 83, 165, 141, 501, 263, 617, 865, 575, 219, 390, 984, 592, 236, 105, 942, 941,\n",
        "    386, 462, 47, 418, 907, 344, 236, 375, 823, 566, 597, 978, 328, 615, 953, 345,\n",
        "    399, 162, 758, 219, 918, 237, 412, 566, 826, 248, 866, 950, 626, 949, 687, 217,\n",
        "    815, 67, 104, 58, 512, 24, 892, 894, 767, 553, 81, 379, 843, 831, 445, 742, 717,\n",
        "    958, 609, 842, 451, 688, 753, 854, 685, 93, 857, 440, 380, 126, 721, 328, 753, 470,\n",
        "    743, 527\n",
        "    ]\n",
        "\n",
        "# ind_237 = numbers.index(237)\n",
        "# print(numbers[ind_237 - 1])\n",
        "# print(numbers[ind_237 + 1])\n",
        "# print(\"-------\")\n",
        "# comebefore_237 = False\n",
        "# xx = []\n",
        "# yy = []\n",
        "# idx = 0\n",
        "# while(not comebefore_237):\n",
        "\n",
        "#   # Read one element from list at a time\n",
        "#   x = numbers[idx]\n",
        "#   if x == 237: \n",
        "#     break\n",
        "  \n",
        "#   if not comebefore_237 and x % 2 == 0:\n",
        "#     xx.append(x)\n",
        "#     print(x)\n",
        "\n",
        "#   # Increment index list by 1 \n",
        "#   idx += 1\n",
        "# print(\"xxxxxx\")\n",
        "\n",
        "# for x in numbers:\n",
        "#   if x == 237: \n",
        "#     comebefore_237 = True\n",
        "  \n",
        "#   if not comebefore_237 and x % 2 == 0:\n",
        "#     yy.append(x)\n",
        "#     print(x)\n",
        "\n",
        "# print(\"yyyyyyyy\")\n",
        "# print(\"xx and yy is equal :\", xx==yy)"
      ],
      "execution_count": null,
      "outputs": []
    },
    {
      "cell_type": "markdown",
      "metadata": {
        "id": "VrVPAiAL4sTm"
      },
      "source": [
        "## Functions\n",
        "\n",
        "Functions are a convenient way to divide your code into useful blocks, allowing us to order our code, make it more readable, reuse it and save some time. Also functions are a key way to define interfaces so programmers can share their code.\n",
        "\n",
        "Functions in python are defined using the block keyword \"def\", followed with the function's name as the block's name. For example:\n"
      ]
    },
    {
      "cell_type": "code",
      "metadata": {
        "id": "ZWhMahCI5QWx"
      },
      "source": [
        "def my_function():\n",
        "    print(\"Hello From My Function!\")\n",
        "\n",
        "my_function()"
      ],
      "execution_count": null,
      "outputs": []
    },
    {
      "cell_type": "markdown",
      "metadata": {
        "id": "Vx_nw7TI5feK"
      },
      "source": [
        "Functions may also receive arguments (variables passed from the caller to the function). For example:"
      ]
    },
    {
      "cell_type": "code",
      "metadata": {
        "id": "LI8h4tcK5g7a"
      },
      "source": [
        "def my_function_with_args(username, greeting):\n",
        "    print(\"Hello, %s , From My Function!, I wish you %s\"%(username, greeting))\n",
        "\n",
        "my_function_with_args(\"John\", \"Good Luck!!!\")"
      ],
      "execution_count": null,
      "outputs": []
    },
    {
      "cell_type": "markdown",
      "metadata": {
        "id": "VlarY_XR5yTl"
      },
      "source": [
        "Functions may return a value to the caller, using the keyword- 'return' . For example:"
      ]
    },
    {
      "cell_type": "code",
      "metadata": {
        "id": "0wuxlbvm5zRE"
      },
      "source": [
        "def sum_two_numbers(a, b):\n",
        "    return a + b\n",
        "\n",
        "sum = sum_two_numbers(2, 3)\n",
        "print(sum)"
      ],
      "execution_count": null,
      "outputs": []
    },
    {
      "cell_type": "markdown",
      "metadata": {
        "id": "9tEMImvd6A-m"
      },
      "source": [
        "### Exercise\n",
        "\n",
        "In this exercise you'll use an existing function, and while adding your own to create a fully functional program.\n",
        "\n",
        "1. Add a function named `list_benefits()` that returns the following  list of strings: \"More organized code\", \"More readable code\", \"Easier code reuse\", \"Allowing programmers to share and connect code together\"\n",
        "2. Add a function named `build_sentence(info)` which receives a single argument containing a string and returns a sentence starting with the `given string` and ending with the string `\"is a benefit of functions!\"`\n",
        "3. Run and see all the functions work together!"
      ]
    },
    {
      "cell_type": "code",
      "metadata": {
        "id": "mpglRioX6VJF"
      },
      "source": [
        "# Modify this function to return a list of strings as defined above\n",
        "def list_benefits():\n",
        "  # list_benfs = [\"More organized code\", \"More readable code\", \"Easier code reuse\"]\n",
        "  # return list_benfs\n",
        "  pass\n",
        "\n",
        "# Modify this function to concatenate to each benefit - \" is a benefit of functions!\"\n",
        "def build_sentence(benefit):\n",
        "  # new_str = benefit + \" is a benefit of functions!\"\n",
        "  # return new_str\n",
        "  pass\n",
        "\n",
        "def name_the_benefits_of_functions():\n",
        "    list_of_benefits = list_benefits()\n",
        "    for benefit in list_of_benefits:\n",
        "        print(build_sentence(benefit))\n",
        "\n",
        "name_the_benefits_of_functions()"
      ],
      "execution_count": null,
      "outputs": []
    }
  ]
}
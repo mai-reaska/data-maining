{
  "cells": [
    {
      "cell_type": "markdown",
      "metadata": {
        "id": "oaSy4Rz4SiWB"
      },
      "source": [
        "<h1> Introduction to Python</h1>\n",
        "\n",
        "Python is a very simple language, and has a very straightforward syntax. It encourages programmers to program without boilerplate (prepared) code. The simplest directive in Python is the \"print\" directive - it simply prints out a line.\n",
        "\n",
        "1. Print\n",
        "2. Indentation\n",
        "3. Variables and Types\n",
        "4. Lists\n",
        "5. Basic Operators\n",
        "6. String Formatting\n",
        "\n"
      ]
    },
    {
      "cell_type": "markdown",
      "metadata": {
        "id": "KSfXROZ8Sti9"
      },
      "source": [
        "## Hello World !"
      ]
    },
    {
      "cell_type": "code",
      "execution_count": 1,
      "metadata": {
        "colab": {
          "base_uri": "https://localhost:8080/",
          "height": 34
        },
        "id": "cYKy3Rcqz6Ls",
        "outputId": "072a47e6-2a75-464e-9660-53b64b3c067b"
      },
      "outputs": [
        {
          "name": "stdout",
          "output_type": "stream",
          "text": [
            "Hello World !\n"
          ]
        }
      ],
      "source": [
        "print(\"Hello World !\")"
      ]
    },
    {
      "cell_type": "markdown",
      "metadata": {
        "id": "7NfLjLDrTL3j"
      },
      "source": [
        "## Indentation\n",
        "Python uses indentation for blocks, instead of curly braces. Both tabs and spaces are supported, but the standard indentation requires standard Python code to use four spaces. For example:"
      ]
    },
    {
      "cell_type": "code",
      "execution_count": 2,
      "metadata": {
        "colab": {
          "base_uri": "https://localhost:8080/",
          "height": 34
        },
        "id": "CbujEJA1SeMX",
        "outputId": "2ddf0433-1327-4723-fcf3-a3c93a6547b8"
      },
      "outputs": [
        {
          "name": "stdout",
          "output_type": "stream",
          "text": [
            "x is 1.\n"
          ]
        }
      ],
      "source": [
        "x = 1\n",
        "if x == 1:\n",
        "    # indented four spaces\n",
        "    print(\"x is 1.\")"
      ]
    },
    {
      "cell_type": "markdown",
      "metadata": {
        "id": "esZ5o21oTmKe"
      },
      "source": [
        "## Variables and Types\n",
        "\n",
        "Python is completely object oriented, and not \"statically typed\". You do not need to declare variables before using them, or declare their type. Every variable in Python is an object."
      ]
    },
    {
      "cell_type": "markdown",
      "metadata": {
        "id": "nME2-N0BSfBs"
      },
      "source": [
        "### Numbers\n",
        "\n",
        "Python supports two types of numbers - integers and floating point numbers. (It also supports complex numbers, which will not be explained in this tutorial)."
      ]
    },
    {
      "cell_type": "code",
      "execution_count": 3,
      "metadata": {
        "colab": {
          "base_uri": "https://localhost:8080/",
          "height": 68
        },
        "id": "oWu3xtVlT9-5",
        "outputId": "c50c44f9-afee-4e10-a531-a9c8904e707c"
      },
      "outputs": [
        {
          "name": "stdout",
          "output_type": "stream",
          "text": [
            "7\n",
            "7.0\n",
            "7.0\n"
          ]
        }
      ],
      "source": [
        "# To define an integer, use the following syntax:\n",
        "myint = 7\n",
        "print(myint)\n",
        "\n",
        "# To define a floating point number, you may use one of the following notations:\n",
        "myfloat = 7.0\n",
        "print(myfloat)\n",
        "myfloat = float(7)\n",
        "print(myfloat)"
      ]
    },
    {
      "cell_type": "markdown",
      "metadata": {
        "id": "e8LePPgbURyZ"
      },
      "source": [
        "### Strings\n",
        "Strings are defined either with a single quote or a double quotes."
      ]
    },
    {
      "cell_type": "code",
      "execution_count": 4,
      "metadata": {
        "colab": {
          "base_uri": "https://localhost:8080/",
          "height": 51
        },
        "id": "NyuVlBXZUXoR",
        "outputId": "a4f69123-bb72-40b9-e5a6-8896430bbe41"
      },
      "outputs": [
        {
          "name": "stdout",
          "output_type": "stream",
          "text": [
            "hello\n",
            "hello\n"
          ]
        }
      ],
      "source": [
        "mystr_singlequote = 'hello'\n",
        "print(mystr_singlequote)\n",
        "mystr_doublequote= \"hello\"\n",
        "print(mystr_doublequote)"
      ]
    },
    {
      "cell_type": "markdown",
      "metadata": {
        "id": "KmAv2TLCUtkJ"
      },
      "source": [
        "The difference between the two is that using double quotes makes it easy to include apostrophes (whereas these would terminate the string if using single quotes)\n",
        "\n"
      ]
    },
    {
      "cell_type": "code",
      "execution_count": 5,
      "metadata": {
        "colab": {
          "base_uri": "https://localhost:8080/",
          "height": 34
        },
        "id": "avZni3fQUufR",
        "outputId": "ae5a7c67-240c-4365-f9fc-53a23296ea48"
      },
      "outputs": [
        {
          "name": "stdout",
          "output_type": "stream",
          "text": [
            "Don't worry about apostrophes\n"
          ]
        }
      ],
      "source": [
        "mystring = \"Don't worry about apostrophes\"\n",
        "print(mystring)"
      ]
    },
    {
      "cell_type": "markdown",
      "metadata": {
        "id": "GYAz-wCFUyB7"
      },
      "source": [
        "There are additional variations on defining strings that make it easier to include things such as carriage returns, backslashes and Unicode characters. These are beyond the scope of this tutorial, but are covered in the [Python documentation](https://docs.python.org/tutorial/introduction.html#strings).\n",
        "\n",
        "Simple operators can be executed on numbers and strings:\n"
      ]
    },
    {
      "cell_type": "code",
      "execution_count": 6,
      "metadata": {
        "colab": {
          "base_uri": "https://localhost:8080/",
          "height": 51
        },
        "id": "P7BbO6bxU7N5",
        "outputId": "3fbfb0c2-e355-4ed7-a748-7f40579fe7a5"
      },
      "outputs": [
        {
          "name": "stdout",
          "output_type": "stream",
          "text": [
            "3\n",
            "hello world\n"
          ]
        }
      ],
      "source": [
        "one = 1\n",
        "two = 2\n",
        "three = one + two\n",
        "print(three)\n",
        "\n",
        "hello = \"hello\"\n",
        "world = \"world\"\n",
        "helloworld = hello + \" \" + world\n",
        "print(helloworld)"
      ]
    },
    {
      "cell_type": "markdown",
      "metadata": {
        "id": "w3QrXIPpVEBy"
      },
      "source": [
        "Assignments can be done on more than one variable \"simultaneously\" on the same line like this\n",
        "\n"
      ]
    },
    {
      "cell_type": "code",
      "execution_count": 7,
      "metadata": {
        "colab": {
          "base_uri": "https://localhost:8080/",
          "height": 34
        },
        "id": "oX7vfOyJVGVB",
        "outputId": "a2c08edd-e6b6-4d0a-ec81-6e8c0bf1e184"
      },
      "outputs": [
        {
          "name": "stdout",
          "output_type": "stream",
          "text": [
            "3 4\n"
          ]
        }
      ],
      "source": [
        "a, b = 3, 4\n",
        "print(a,b)"
      ]
    },
    {
      "cell_type": "markdown",
      "metadata": {
        "id": "lqTwziqDVJFf"
      },
      "source": [
        "Mixing operators between numbers and strings is not supported:\n",
        "\n"
      ]
    },
    {
      "cell_type": "code",
      "execution_count": 9,
      "metadata": {
        "colab": {
          "base_uri": "https://localhost:8080/",
          "height": 198
        },
        "id": "3IgnQ7kAVLKs",
        "outputId": "eeabfc59-3ada-4000-a4eb-a4d3e1563f1d"
      },
      "outputs": [],
      "source": [
        "# This will not work!\n",
        "one = 1\n",
        "two = 2\n",
        "hello = \"hello\"\n",
        "# In python can not doing on string operation \n",
        "# You can use string casting datatype befor do operation\n",
        "# print(one + two + hello)"
      ]
    },
    {
      "cell_type": "markdown",
      "metadata": {
        "id": "v4sKjgljVnmz"
      },
      "source": [
        "#### String: Excercise\n",
        "\n",
        "The target of this exercise is to create a `string`, an `integer`, and a `floating` point number. The `string` should be named mystring and should contain the word `\"hello\"`. The `floating` point number should be named `myfloat` and should contain the number `10.0`, and the `integer` should be named `myint` and should contain the number `20`.\n",
        "\n"
      ]
    },
    {
      "cell_type": "code",
      "execution_count": null,
      "metadata": {
        "id": "AG3MECj3Vr7P"
      },
      "outputs": [
        {
          "name": "stdout",
          "output_type": "stream",
          "text": [
            "String: hello\n",
            "Float: 10.000000\n",
            "Integer: 20\n"
          ]
        }
      ],
      "source": [
        "# change this code\n",
        "mystring = \"hello\"\n",
        "myfloat = 10.0\n",
        "myint = 20\n",
        "\n",
        "# testing code\n",
        "if mystring == \"hello\":\n",
        "    print(\"String: %s\" % mystring)\n",
        "if isinstance(myfloat, float) and myfloat == 10.0:\n",
        "    print(\"Float: %f\" % myfloat)\n",
        "if isinstance(myint, int) and myint == 20:\n",
        "    print(\"Integer: %d\" % myint)"
      ]
    },
    {
      "cell_type": "markdown",
      "metadata": {
        "id": "etHDhBVuWjqH"
      },
      "source": [
        "## Lists\n",
        "\n",
        "Lists are very similar to arrays. They can contain any type of variable, and they can contain as many variables as you wish. Lists can also be iterated over in a very simple manner. Here is an example of how to build a list.\n",
        "\n",
        "For more detail regarding Python List, [Data Structures](https://docs.python.org/3.5/tutorial/datastructures.html)."
      ]
    },
    {
      "cell_type": "code",
      "execution_count": null,
      "metadata": {
        "colab": {
          "base_uri": "https://localhost:8080/",
          "height": 170
        },
        "id": "FqI0PqW8Wp9E",
        "outputId": "f1f66bfb-b9f5-4cba-8913-794cf0850127"
      },
      "outputs": [
        {
          "name": "stdout",
          "output_type": "stream",
          "text": [
            "1\n",
            "2\n",
            "3\n",
            "\n",
            "\n",
            "Iterate list:\n",
            "1\n",
            "2\n",
            "3\n"
          ]
        }
      ],
      "source": [
        "mylist = []\n",
        "mylist.append(1)\n",
        "mylist.append(2)\n",
        "mylist.append(3)\n",
        "print(mylist[0]) # prints 1\n",
        "print(mylist[1]) # prints 2\n",
        "print(mylist[2]) # prints 3\n",
        "print('\\n')\n",
        "\n",
        "# prints out 1,2,3\n",
        "print('Iterate list:')\n",
        "for x in mylist:\n",
        "    print(x)"
      ]
    },
    {
      "cell_type": "markdown",
      "metadata": {
        "id": "2Oc6bUikXHjZ"
      },
      "source": [
        "Accessing an index which does not exist generates an exception (an error).\n",
        "\n"
      ]
    },
    {
      "cell_type": "code",
      "execution_count": null,
      "metadata": {
        "colab": {
          "base_uri": "https://localhost:8080/",
          "height": 181
        },
        "id": "s85qriErXITv",
        "outputId": "cc671a0a-7586-49af-ef37-a8f1832761f5"
      },
      "outputs": [
        {
          "ename": "IndexError",
          "evalue": "ignored",
          "output_type": "error",
          "traceback": [
            "\u001b[0;31m---------------------------------------------------------------------------\u001b[0m",
            "\u001b[0;31mIndexError\u001b[0m                                Traceback (most recent call last)",
            "\u001b[0;32m<ipython-input-19-ac9eeac6db06>\u001b[0m in \u001b[0;36m<module>\u001b[0;34m()\u001b[0m\n\u001b[1;32m      1\u001b[0m \u001b[0mmylist\u001b[0m \u001b[0;34m=\u001b[0m \u001b[0;34m[\u001b[0m\u001b[0;36m1\u001b[0m\u001b[0;34m,\u001b[0m\u001b[0;36m2\u001b[0m\u001b[0;34m,\u001b[0m\u001b[0;36m3\u001b[0m\u001b[0;34m]\u001b[0m\u001b[0;34m\u001b[0m\u001b[0;34m\u001b[0m\u001b[0m\n\u001b[0;32m----> 2\u001b[0;31m \u001b[0mprint\u001b[0m\u001b[0;34m(\u001b[0m\u001b[0mmylist\u001b[0m\u001b[0;34m[\u001b[0m\u001b[0;36m10\u001b[0m\u001b[0;34m]\u001b[0m\u001b[0;34m)\u001b[0m\u001b[0;34m\u001b[0m\u001b[0;34m\u001b[0m\u001b[0m\n\u001b[0m",
            "\u001b[0;31mIndexError\u001b[0m: list index out of range"
          ]
        }
      ],
      "source": [
        "mylist = [1,2,3]\n",
        "# print(mylist[10]) # Over lengh indext list can not add"
      ]
    },
    {
      "cell_type": "markdown",
      "metadata": {
        "id": "vML7s2mSZ65r"
      },
      "source": [
        "list.**`remove(x)`**\n",
        "\n",
        "Remove the first item from the list whose value is `x`. It is an error if there is no such item."
      ]
    },
    {
      "cell_type": "code",
      "execution_count": null,
      "metadata": {
        "colab": {
          "base_uri": "https://localhost:8080/",
          "height": 51
        },
        "id": "NeBMJ2ziZ-Lz",
        "outputId": "7b645242-0112-4891-8492-1149bb281883"
      },
      "outputs": [
        {
          "name": "stdout",
          "output_type": "stream",
          "text": [
            "[2, 3]\n",
            "[2]\n"
          ]
        }
      ],
      "source": [
        "mylist = [1,2,3]\n",
        "mylist.remove(1)\n",
        "print(mylist)\n",
        "\n",
        "# Alternative way to remove an element from list using index\n",
        "del mylist[1]\n",
        "print(mylist)"
      ]
    },
    {
      "cell_type": "markdown",
      "metadata": {
        "id": "6m03OozMeikm"
      },
      "source": [
        "list.***count(x)***\n",
        "Return the number of times x appears in the list."
      ]
    },
    {
      "cell_type": "code",
      "execution_count": null,
      "metadata": {
        "colab": {
          "base_uri": "https://localhost:8080/",
          "height": 34
        },
        "id": "d4tRen3SekxS",
        "outputId": "c344aebb-b0b7-46d2-bbb3-abb940b3638c"
      },
      "outputs": [
        {
          "name": "stdout",
          "output_type": "stream",
          "text": [
            "3\n"
          ]
        }
      ],
      "source": [
        "mylist = [1,2,3]*3\n",
        "print(mylist.count(1))"
      ]
    },
    {
      "cell_type": "markdown",
      "metadata": {
        "id": "xEdfYvDiXU5P"
      },
      "source": [
        "### List: Exercise\n",
        "\n",
        "In this exercise, you will need to add `numbers` and `strings` to `the correct lists` using the `\"append\"` list method. You must add the numbers `1,2, and 3` to the \"numbers\" list, and the words `'hello' and 'world'` to the strings variable.\n",
        "\n",
        "You will also have to fill in the `variable second_name` with the `second name in the names list`, using the brackets operator `[]`. Note that the index is `zero-based`, so if you want to access the `second item` in the list, its `index` will be `1`.\n"
      ]
    },
    {
      "cell_type": "code",
      "execution_count": 2,
      "metadata": {
        "colab": {
          "base_uri": "https://localhost:8080/",
          "height": 68
        },
        "id": "Z1j6xDP4XMHE",
        "outputId": "06dbfebd-36bb-4059-86c6-13a35c8841fe"
      },
      "outputs": [
        {
          "name": "stdout",
          "output_type": "stream",
          "text": [
            "[1, 2, 3]\n",
            "['hello', 'world']\n",
            "The second name on the names list is 2\n"
          ]
        }
      ],
      "source": [
        "numbers = []\n",
        "strings = []\n",
        "names = [\"John\", \"Eric\", \"Jessica\"]\n",
        "numbers.append(1)\n",
        "numbers.append(2)\n",
        "numbers.append(3)\n",
        "strings.append('hello')\n",
        "strings.append('world')\n",
        "# write your code here\n",
        "second_name = [1, 2, 3]\n",
        "\n",
        "# this code should write out the filled arrays and the second name in the names list (Eric).\n",
        "print(numbers)\n",
        "print(strings)\n",
        "print(\"The second name on the names list is %s\" % second_name[1])"
      ]
    },
    {
      "cell_type": "markdown",
      "metadata": {
        "id": "XPj4sPhRbWZG"
      },
      "source": [
        "## Basic Operators\n",
        "This section explains how to use basic operators in Python."
      ]
    },
    {
      "cell_type": "markdown",
      "metadata": {
        "id": "pbQ2Ztb-be_Y"
      },
      "source": [
        "### Arithmetic Operators\n",
        "Just as any other programming languages, the addition, subtraction, multiplication, and division operators can be used with numbers."
      ]
    },
    {
      "cell_type": "code",
      "execution_count": null,
      "metadata": {
        "colab": {
          "base_uri": "https://localhost:8080/",
          "height": 34
        },
        "id": "fFmdB3wHbh6z",
        "outputId": "3c469a21-a070-40fb-8fd1-f8732b7b2879"
      },
      "outputs": [
        {
          "name": "stdout",
          "output_type": "stream",
          "text": [
            "2.5\n"
          ]
        }
      ],
      "source": [
        "number = 1 + 2 * 3 / 4.0\n",
        "print(number)"
      ]
    },
    {
      "cell_type": "markdown",
      "metadata": {
        "id": "rTTCBEY6bqp0"
      },
      "source": [
        "Another operator available is the modulo (%) operator, which returns the integer remainder of the division. `dividend % divisor = remainder.`\n",
        "\n"
      ]
    },
    {
      "cell_type": "code",
      "execution_count": null,
      "metadata": {
        "colab": {
          "base_uri": "https://localhost:8080/",
          "height": 34
        },
        "id": "CFKgg3nEbrM-",
        "outputId": "79e6a522-77c0-447e-d265-a33eb7f19fda"
      },
      "outputs": [
        {
          "name": "stdout",
          "output_type": "stream",
          "text": [
            "2\n"
          ]
        }
      ],
      "source": [
        "remainder = 11 % 3\n",
        "print(remainder)"
      ]
    },
    {
      "cell_type": "markdown",
      "metadata": {
        "id": "FmjpGdAxb0Ej"
      },
      "source": [
        "Using `two multiplication symbols` makes a `power` relationship."
      ]
    },
    {
      "cell_type": "code",
      "execution_count": null,
      "metadata": {
        "colab": {
          "base_uri": "https://localhost:8080/",
          "height": 51
        },
        "id": "hjXbPYNob3I-",
        "outputId": "f20e6648-4725-405d-9951-18d38624812b"
      },
      "outputs": [
        {
          "name": "stdout",
          "output_type": "stream",
          "text": [
            "49\n",
            "8\n"
          ]
        }
      ],
      "source": [
        "squared = 7 ** 2\n",
        "cubed = 2 ** 3\n",
        "print(squared)\n",
        "print(cubed)"
      ]
    },
    {
      "cell_type": "markdown",
      "metadata": {
        "id": "nEgyPMJDb6t7"
      },
      "source": [
        "### Using Operators with Strings\n",
        "\n",
        "Python supports concatenating strings using the addition operator:"
      ]
    },
    {
      "cell_type": "code",
      "execution_count": null,
      "metadata": {
        "colab": {
          "base_uri": "https://localhost:8080/",
          "height": 34
        },
        "id": "3Xxk2LElb_zJ",
        "outputId": "2a34298a-e4b3-41e0-9dc6-78ae3dba8cee"
      },
      "outputs": [
        {
          "name": "stdout",
          "output_type": "stream",
          "text": [
            "hello world\n"
          ]
        }
      ],
      "source": [
        "helloworld = \"hello\" + \" \" + \"world\"\n",
        "print(helloworld)"
      ]
    },
    {
      "cell_type": "markdown",
      "metadata": {
        "id": "BLlxaplNcFG9"
      },
      "source": [
        "Python also supports multiplying strings to form a string with a repeating sequence:\n",
        "\n"
      ]
    },
    {
      "cell_type": "code",
      "execution_count": null,
      "metadata": {
        "colab": {
          "base_uri": "https://localhost:8080/",
          "height": 34
        },
        "id": "3AaQRZTgcFpX",
        "outputId": "4bd2b55c-ed5e-45af-a308-d112141e1df3"
      },
      "outputs": [
        {
          "name": "stdout",
          "output_type": "stream",
          "text": [
            "hellohellohellohellohellohellohellohellohellohello\n"
          ]
        }
      ],
      "source": [
        "lotsofhellos = \"hello\" * 10\n",
        "print(lotsofhellos)"
      ]
    },
    {
      "cell_type": "markdown",
      "metadata": {
        "id": "KwhEgtmscJgZ"
      },
      "source": [
        "### Using Operators with Lists\n",
        "\n",
        "Lists can be joined with the addition operators:"
      ]
    },
    {
      "cell_type": "code",
      "execution_count": null,
      "metadata": {
        "colab": {
          "base_uri": "https://localhost:8080/",
          "height": 34
        },
        "id": "nukUN3owcMIu",
        "outputId": "5148e432-ee31-4c55-b8bb-0f67d9709da6"
      },
      "outputs": [
        {
          "name": "stdout",
          "output_type": "stream",
          "text": [
            "[1, 3, 5, 7, 2, 4, 6, 8]\n"
          ]
        }
      ],
      "source": [
        "even_numbers = [2,4,6,8]\n",
        "odd_numbers = [1,3,5,7]\n",
        "all_numbers = odd_numbers + even_numbers\n",
        "print(all_numbers)"
      ]
    },
    {
      "cell_type": "markdown",
      "metadata": {
        "id": "BMtyjQoncY1O"
      },
      "source": [
        "Just as in strings, Python supports forming new lists with a repeating sequence using the multiplication operator:\n",
        "\n"
      ]
    },
    {
      "cell_type": "code",
      "execution_count": null,
      "metadata": {
        "colab": {
          "base_uri": "https://localhost:8080/",
          "height": 34
        },
        "id": "vwwpXWqDcZ3c",
        "outputId": "71d6b584-dd87-41cf-e80e-87041147ca9a"
      },
      "outputs": [
        {
          "name": "stdout",
          "output_type": "stream",
          "text": [
            "[1, 2, 3, 1, 2, 3, 1, 2, 3]\n"
          ]
        }
      ],
      "source": [
        "print([1,2,3] * 3)"
      ]
    },
    {
      "cell_type": "markdown",
      "metadata": {
        "id": "K69nJy0ncyqr"
      },
      "source": [
        "### Basic Operations: Exercise\n",
        "\n",
        "The target of this exercise is to create two lists called `x_list` and `y_list`, which contain `10` `instances` of the variables `x` and `y`, respectively. You are also required to create a list called `big_list`, which contains the variables `x` and `y`, `10` times each, by `concatenating` the two lists you have created."
      ]
    },
    {
      "cell_type": "code",
      "execution_count": 15,
      "metadata": {
        "colab": {
          "base_uri": "https://localhost:8080/",
          "height": 102
        },
        "id": "PM7pNr-_dDZi",
        "outputId": "f70d16a7-27bb-4405-fa0e-e71581b64f3f"
      },
      "outputs": [
        {
          "name": "stdout",
          "output_type": "stream",
          "text": [
            "x_list contains 1 objects\n",
            "y_list contains 1 objects\n",
            "big_list contains 10 objects\n",
            "[<object object at 0x000001F0E7091B70>]\n"
          ]
        }
      ],
      "source": [
        "x = object()\n",
        "y = object()\n",
        "\n",
        "# TODO: change this code\n",
        "x_list = [x]\n",
        "y_list = [y]\n",
        "big_list = [1, 2, 3, 4, 5, 6, 7, 8, 9, 10]\n",
        "\n",
        "print(\"x_list contains %d objects\" % len(x_list))\n",
        "print(\"y_list contains %d objects\" % len(y_list))\n",
        "print(\"big_list contains %d objects\" % len(big_list))\n",
        "\n",
        "# testing code\n",
        "if x_list.count(x) == 10 and y_list.count(y) == 10:\n",
        "    print(\"Almost there...\")\n",
        "if big_list.count(x) == 10 and big_list.count(y) == 10:\n",
        "    print(\"Great!\")\n",
        "\n",
        "print(x_list)"
      ]
    },
    {
      "cell_type": "markdown",
      "metadata": {
        "id": "ELN7rDyXj45Q"
      },
      "source": [
        "## String Formatting\n",
        "\n",
        "Python uses C-style string formatting to create new, formatted strings. The \"%\" operator is used to format a set of variables enclosed in a \"tuple\" (a fixed size list), together with a format string, which contains normal text together with \"argument specifiers\", special symbols like \"%s\" and \"%d\".\n",
        "\n",
        "Let's say you have a variable called \"name\" with your user name in it, and you would then like to print(out a greeting to that user.)\n"
      ]
    },
    {
      "cell_type": "code",
      "execution_count": null,
      "metadata": {
        "colab": {
          "base_uri": "https://localhost:8080/",
          "height": 34
        },
        "id": "tw5g2r5nj9SC",
        "outputId": "9d0c7810-b350-49f6-906f-50a164fceb18"
      },
      "outputs": [
        {
          "name": "stdout",
          "output_type": "stream",
          "text": [
            "Hello, John!\n"
          ]
        }
      ],
      "source": [
        "# This prints out \"Hello, John!\"\n",
        "name = \"John\"\n",
        "print(\"Hello, %s!\" % name)"
      ]
    },
    {
      "cell_type": "markdown",
      "metadata": {
        "id": "Ft9iLFJjkAsx"
      },
      "source": [
        "To use two or more argument specifiers, use a tuple (parentheses):"
      ]
    },
    {
      "cell_type": "code",
      "execution_count": null,
      "metadata": {
        "colab": {
          "base_uri": "https://localhost:8080/",
          "height": 34
        },
        "id": "amF7ikgGkD5o",
        "outputId": "c886016e-c9ac-46b7-c560-fe87692964f7"
      },
      "outputs": [
        {
          "name": "stdout",
          "output_type": "stream",
          "text": [
            "John is 23 years old.\n"
          ]
        }
      ],
      "source": [
        "# This prints out \"John is 23 years old.\"\n",
        "name = \"John\"\n",
        "age = 23\n",
        "print(\"%s is %d years old.\" % (name, age))"
      ]
    },
    {
      "cell_type": "markdown",
      "metadata": {
        "id": "7lHCkog_kH8M"
      },
      "source": [
        "Any object which is not a string can be formatted using the %s operator as well. The string which returns from the \"repr\" method of that object is formatted as the string. For example:\n",
        "\n"
      ]
    },
    {
      "cell_type": "code",
      "execution_count": null,
      "metadata": {
        "colab": {
          "base_uri": "https://localhost:8080/",
          "height": 34
        },
        "id": "W9FhMu80kMvI",
        "outputId": "c5f20083-5d05-4b9c-d1bf-6007cf5b72de"
      },
      "outputs": [
        {
          "name": "stdout",
          "output_type": "stream",
          "text": [
            "A list: [1, 2, 3]\n"
          ]
        }
      ],
      "source": [
        "# This prints out: A list: [1, 2, 3]\n",
        "mylist = [1,2,3]\n",
        "print(\"A list: %s\" % mylist)"
      ]
    },
    {
      "cell_type": "markdown",
      "metadata": {
        "id": "9PFsq-SEkQd1"
      },
      "source": [
        "**Here are some basic argument specifiers you should know:**\n",
        "\n",
        "`%s` - String (or any object with a string representation, like numbers)\n",
        "\n",
        "`%d` - Integers\n",
        "\n",
        "`%f` - Floating point numbers\n",
        "\n",
        "`%.<number of digits>f` - Floating point numbers with a fixed amount of digits to the right of the dot.\n",
        "\n",
        "`%x/%X `- Integers in hex representation (lowercase/uppercase)\n",
        "\n"
      ]
    },
    {
      "cell_type": "markdown",
      "metadata": {
        "id": "IFtenc1YkxS3"
      },
      "source": [
        "### Excercise\n",
        "\n",
        "You will need to write a `format` string which `prints out` the data using the following syntax: `Hello John Doe`. `Your current balance is $53.44`."
      ]
    },
    {
      "cell_type": "code",
      "execution_count": 17,
      "metadata": {
        "colab": {
          "base_uri": "https://localhost:8080/",
          "height": 51
        },
        "id": "hfSDMeMukbw-",
        "outputId": "73aaa429-75e1-4089-de2c-ca5362cf262f"
      },
      "outputs": [
        {
          "name": "stdout",
          "output_type": "stream",
          "text": [
            "Hello John Doe. Your current balance is $53.44 \n",
            "Hello John Doe. Your current balance is $53.44.\n",
            "Hello %s %s. Your current balance is $%s.Doe\n"
          ]
        }
      ],
      "source": [
        "data = (\"John\", \"Doe\", 53.44)\n",
        "format_string = \"Hello\"\n",
        "print(format_string, \"%s %s. Your current balance is $%.2f \" % data)\n",
        "\n",
        "format_string = \"Hello %s %s. Your current balance is $%s.\"\n",
        "print(format_string%data)\n",
        "\n",
        "# casting string\n",
        "custing = format_string + data[1]\n",
        "print(custing)"
      ]
    },
    {
      "cell_type": "markdown",
      "metadata": {
        "id": "RQ_FlYo8o9z5"
      },
      "source": [
        "### Option #2: str.format()\n",
        "[`Reference`](https://realpython.com/python-f-strings/): Real Python web site\n",
        "\n",
        "str.format()  is an improvement on %-formatting. It uses normal function call syntax and is extensible through the __format__() method on the object being converted to a string."
      ]
    },
    {
      "cell_type": "markdown",
      "metadata": {
        "id": "n-_7miSwp2S2"
      },
      "source": [
        "With str.format(), the replacement fields are marked by curly braces:\n",
        "\n"
      ]
    },
    {
      "cell_type": "code",
      "execution_count": null,
      "metadata": {
        "colab": {
          "base_uri": "https://localhost:8080/",
          "height": 34
        },
        "id": "SL846DHOpM47",
        "outputId": "c025c525-1df2-4098-dba3-28edad9da846"
      },
      "outputs": [
        {
          "name": "stdout",
          "output_type": "stream",
          "text": [
            "Hello, Eric. You are 74.\n"
          ]
        }
      ],
      "source": [
        "name, age = 'Eric', 74\n",
        "str_fmt = \"Hello, {}. You are {}.\".format(name, age)\n",
        "print(str_fmt)"
      ]
    },
    {
      "cell_type": "markdown",
      "metadata": {
        "id": "zS8GtsyTp3a0"
      },
      "source": [
        "You can reference variables in any order by referencing their index:\n",
        "\n"
      ]
    },
    {
      "cell_type": "code",
      "execution_count": null,
      "metadata": {
        "colab": {
          "base_uri": "https://localhost:8080/",
          "height": 34
        },
        "id": "3QTj5Bk1ptKb",
        "outputId": "0274c902-62c4-4180-811d-0695adc148d9"
      },
      "outputs": [
        {
          "name": "stdout",
          "output_type": "stream",
          "text": [
            "Hello, 74. You are Eric.\n"
          ]
        }
      ],
      "source": [
        "# >>> \"Hello, {1}. You are {0}.\".format(age, name)\n",
        "name, age = 'Eric', 74\n",
        "str_fmt = \"Hello, {1}. You are {0}.\".format(name, age)\n",
        "print(str_fmt)"
      ]
    },
    {
      "cell_type": "markdown",
      "metadata": {
        "id": "0RxP8DoZqKRv"
      },
      "source": [
        "But if you insert the variable names, you get the added perk of being able to pass objects and then reference parameters and methods in between the braces:"
      ]
    },
    {
      "cell_type": "code",
      "execution_count": null,
      "metadata": {
        "colab": {
          "base_uri": "https://localhost:8080/",
          "height": 34
        },
        "id": "H2AkpySKqOwt",
        "outputId": "dbe6d3ce-9229-4916-8119-cb8b8c3682f4"
      },
      "outputs": [
        {
          "name": "stdout",
          "output_type": "stream",
          "text": [
            "Hello, Eric. You are 74.\n"
          ]
        }
      ],
      "source": [
        "person = {'name': 'Eric', 'age': 74}\n",
        "str_fmt = \"Hello, {name}. You are {age}.\".format(name=person['name'], age=person['age'])\n",
        "print(str_fmt)"
      ]
    },
    {
      "cell_type": "markdown",
      "metadata": {
        "id": "Ej5wSxI7qf5P"
      },
      "source": [
        "You can also use ** to do this neat trick with dictionaries:"
      ]
    },
    {
      "cell_type": "code",
      "execution_count": null,
      "metadata": {
        "colab": {
          "base_uri": "https://localhost:8080/",
          "height": 34
        },
        "id": "dLmURPkXq0gY",
        "outputId": "4b54534d-8387-4b7b-a80b-745b78e960d7"
      },
      "outputs": [
        {
          "name": "stdout",
          "output_type": "stream",
          "text": [
            "Hello, Eric. You are 74.\n"
          ]
        }
      ],
      "source": [
        "person = {'name': 'Eric', 'age': 74}\n",
        "str_fmt = \"Hello, {name}. You are {age}.\".format(**person)\n",
        "print(str_fmt)"
      ]
    },
    {
      "cell_type": "markdown",
      "metadata": {
        "id": "mcHc9SKysjFA"
      },
      "source": [
        "### f-Strings: A New and Improved Way to Format Strings in Python#\n",
        "\n",
        "Also called “formatted string literals,” f-strings are string literals that have an f at the beginning and curly braces containing expressions that will be replaced with their values. The expressions are evaluated at runtime and then formatted using the __format__ protocol. As always, the Python docs are your friend when you want to learn more.\n",
        "\n",
        "\n"
      ]
    },
    {
      "cell_type": "code",
      "execution_count": null,
      "metadata": {
        "colab": {
          "base_uri": "https://localhost:8080/",
          "height": 34
        },
        "id": "TW7Zu81zslq-",
        "outputId": "2531a4e4-b82f-4c1a-96e4-249f9e213371"
      },
      "outputs": [
        {
          "name": "stdout",
          "output_type": "stream",
          "text": [
            "Hello, Eric. You are 74.\n"
          ]
        }
      ],
      "source": [
        "name, age = \"Eric\", 74\n",
        "str_fmt = f\"Hello, {name}. You are {age}.\"\n",
        "print(str_fmt)"
      ]
    },
    {
      "cell_type": "markdown",
      "metadata": {
        "id": "L49uvLWNs_Qi"
      },
      "source": [
        "#### Arbitrary Expressions\n",
        "\n",
        "Because f-strings are evaluated at runtime, you can put any and all valid Python expressions in them. This allows you to do some nifty things.\n",
        "\n",
        "You could do something pretty straightforward, like this:"
      ]
    },
    {
      "cell_type": "code",
      "execution_count": null,
      "metadata": {
        "colab": {
          "base_uri": "https://localhost:8080/",
          "height": 68
        },
        "id": "Zu6NvUI1tFJ0",
        "outputId": "0942c4fe-2b04-4774-8354-9f93e232fcb5"
      },
      "outputs": [
        {
          "name": "stdout",
          "output_type": "stream",
          "text": [
            "74\n",
            "eric idle is funny.eric idle is funny.\n",
            "eric idle is funny.\n"
          ]
        }
      ],
      "source": [
        "# You could do something pretty straightforward, like this:\n",
        "print(f\"{2 * 37}\")\n",
        "\n",
        "# But you could also call functions. Here’s an example:\n",
        "def to_lowercase(input):\n",
        "  return input.lower()\n",
        "\n",
        "name = \"Eric Idle\"\n",
        "print(f\"{to_lowercase(name)} is funny.\"'eric idle is funny.')\n",
        "\n",
        "# You also have the option of calling a method directly:\n",
        "print(f\"{name.lower()} is funny.\")"
      ]
    },
    {
      "cell_type": "markdown",
      "metadata": {
        "id": "2fT3bzaNt_vT"
      },
      "source": [
        "You could even use objects created from classes with f-strings. Imagine you had the following class:"
      ]
    },
    {
      "cell_type": "code",
      "execution_count": null,
      "metadata": {
        "colab": {
          "base_uri": "https://localhost:8080/",
          "height": 51
        },
        "id": "66UKagGvuGw9",
        "outputId": "daec7135-58f0-40b7-92f9-6aa4b6a78012"
      },
      "outputs": [
        {
          "name": "stdout",
          "output_type": "stream",
          "text": [
            "Eric Idle is 74.\n",
            "Eric Idle is 74. Surprise!\n"
          ]
        }
      ],
      "source": [
        "class Comedian:\n",
        "    def __init__(self, first_name, last_name, age):\n",
        "        self.first_name = first_name\n",
        "        self.last_name = last_name\n",
        "        self.age = age\n",
        "\n",
        "    def __str__(self):\n",
        "        return f\"{self.first_name} {self.last_name} is {self.age}.\"\n",
        "\n",
        "    def __repr__(self):\n",
        "        return f\"{self.first_name} {self.last_name} is {self.age}. Surprise!\"\n",
        "\n",
        "# Instantiate an object\n",
        "new_comedian = Comedian(\"Eric\", \"Idle\", \"74\")\n",
        "print(f\"{new_comedian}\")\n",
        "# By default, f-strings will use __str__(), but you can make sure they use __repr__() if you include the conversion flag !r:\n",
        "print(f\"{new_comedian!r}\")"
      ]
    }
  ],
  "metadata": {
    "colab": {
      "collapsed_sections": [],
      "name": "Learn_python_introduction.ipynb",
      "provenance": []
    },
    "kernelspec": {
      "display_name": "Python 3",
      "name": "python3"
    },
    "language_info": {
      "codemirror_mode": {
        "name": "ipython",
        "version": 3
      },
      "file_extension": ".py",
      "mimetype": "text/x-python",
      "name": "python",
      "nbconvert_exporter": "python",
      "pygments_lexer": "ipython3",
      "version": "3.11.4"
    }
  },
  "nbformat": 4,
  "nbformat_minor": 0
}
